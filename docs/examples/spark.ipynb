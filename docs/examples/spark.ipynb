{
 "cells": [
  {
   "cell_type": "markdown",
   "metadata": {},
   "source": [
    "# Basics of spark\n",
    "\n",
    "This notebook demonstrates how to integrate Apache Spark with OpenAI's API to perform token counting, embedding generation, and multilingual translation using Spark UDFs."
   ]
  },
  {
   "cell_type": "code",
   "execution_count": null,
   "metadata": {},
   "outputs": [],
   "source": [
    "# Initialize Spark session\n",
    "import os\n",
    "\n",
    "from pyspark.sql import SparkSession\n",
    "from openaivec.spark import setup\n",
    "\n",
    "spark = SparkSession.builder.getOrCreate()\n",
    "api_key = os.environ.get(\"OPENAI_API_KEY\")\n",
    "if not api_key:\n",
    "    raise RuntimeError(\"Set OPENAI_API_KEY before running this notebook.\")\n",
    "setup(spark, api_key=api_key)\n"
   ]
  },
  {
   "cell_type": "markdown",
   "metadata": {},
   "source": [
    "## Create Dummy Data\n",
    "\n",
    "Create a simple DataFrame containing names of fruits."
   ]
  },
  {
   "cell_type": "code",
   "execution_count": 2,
   "metadata": {},
   "outputs": [],
   "source": [
    "# Create DataFrame with fruit names\n",
    "fruit_data = [(\"apple\",), (\"banana\",), (\"cherry\",), (\"mango\",), (\"orange\",), (\"peach\",), (\"pear\",), (\"pineapple\",), (\"plum\",), (\"strawberry\",)]\n",
    "df = spark.createDataFrame(fruit_data, [\"name\"])\n",
    "df.createOrReplaceTempView(\"fruits\")"
   ]
  },
  {
   "cell_type": "code",
   "execution_count": 3,
   "metadata": {},
   "outputs": [
    {
     "name": "stderr",
     "output_type": "stream",
     "text": [
      "[Stage 0:>                                                          (0 + 1) / 1]\r"
     ]
    },
    {
     "name": "stdout",
     "output_type": "stream",
     "text": [
      "+----------+\n",
      "|      name|\n",
      "+----------+\n",
      "|     apple|\n",
      "|    banana|\n",
      "|    cherry|\n",
      "|     mango|\n",
      "|    orange|\n",
      "|     peach|\n",
      "|      pear|\n",
      "| pineapple|\n",
      "|      plum|\n",
      "|strawberry|\n",
      "+----------+\n",
      "\n"
     ]
    },
    {
     "name": "stderr",
     "output_type": "stream",
     "text": [
      "                                                                                \r"
     ]
    }
   ],
   "source": [
    "# Display the fruits DataFrame\n",
    "spark.sql(\"select * from fruits\").show()"
   ]
  },
  {
   "cell_type": "markdown",
   "metadata": {},
   "source": [
    "## Count Tokens\n",
    "\n",
    "Use OpenAI's GPT model to count the number of tokens in each fruit name."
   ]
  },
  {
   "cell_type": "code",
   "execution_count": null,
   "metadata": {},
   "outputs": [],
   "source": [
    "# Register UDF to count tokens using OpenAI GPT model\n",
    "from openaivec.spark import count_tokens_udf\n",
    "\n",
    "spark.udf.register(\"count_tokens\", count_tokens_udf())"
   ]
  },
  {
   "cell_type": "code",
   "execution_count": 5,
   "metadata": {},
   "outputs": [
    {
     "name": "stderr",
     "output_type": "stream",
     "text": [
      "                                                                                \r"
     ]
    },
    {
     "name": "stdout",
     "output_type": "stream",
     "text": [
      "+----------+-----------+\n",
      "|      name|token_count|\n",
      "+----------+-----------+\n",
      "|     apple|          1|\n",
      "|    banana|          1|\n",
      "|    cherry|          2|\n",
      "|     mango|          2|\n",
      "|    orange|          1|\n",
      "|     peach|          2|\n",
      "|      pear|          1|\n",
      "| pineapple|          2|\n",
      "|      plum|          2|\n",
      "|strawberry|          3|\n",
      "+----------+-----------+\n",
      "\n"
     ]
    }
   ],
   "source": [
    "# Show token counts for each fruit name\n",
    "spark.sql(\"\"\"\n",
    "    select\n",
    "        name,\n",
    "        count_tokens(name) as token_count\n",
    "    from fruits\n",
    "\"\"\").show()"
   ]
  },
  {
   "cell_type": "markdown",
   "metadata": {},
   "source": [
    "## Generate Embeddings\n",
    "\n",
    "Generate embeddings for each fruit name using OpenAI's embedding model."
   ]
  },
  {
   "cell_type": "code",
   "execution_count": null,
   "metadata": {},
   "outputs": [],
   "source": [
    "# Register UDF to generate embeddings\n",
    "import os\n",
    "\n",
    "from openaivec.spark import embeddings_udf\n",
    "\n",
    "spark.udf.register(\"embed\", embeddings_udf(model_name=\"text-embedding-3-small\", batch_size=1024))"
   ]
  },
  {
   "cell_type": "code",
   "execution_count": 7,
   "metadata": {},
   "outputs": [
    {
     "name": "stderr",
     "output_type": "stream",
     "text": [
      "[Stage 8:===================================================>     (10 + 1) / 11]\r"
     ]
    },
    {
     "name": "stdout",
     "output_type": "stream",
     "text": [
      "+----------+--------------------+\n",
      "|      name|           embedding|\n",
      "+----------+--------------------+\n",
      "|     apple|[0.01763439, -0.0...|\n",
      "|    banana|[0.013411593, -0....|\n",
      "|    cherry|[0.036222804, -0....|\n",
      "|     mango|[0.055474974, -0....|\n",
      "|    orange|[-0.025922043, -0...|\n",
      "|     peach|[0.030673496, -0....|\n",
      "|      pear|[0.023664422, -0....|\n",
      "| pineapple|[0.020983547, -0....|\n",
      "|      plum|[0.0049052937, 6....|\n",
      "|strawberry|[0.020106195, -0....|\n",
      "+----------+--------------------+\n",
      "\n"
     ]
    },
    {
     "name": "stderr",
     "output_type": "stream",
     "text": [
      "                                                                                \r"
     ]
    }
   ],
   "source": [
    "# Display embeddings for each fruit name\n",
    "spark.sql(\"\"\"\n",
    "    select\n",
    "        name,\n",
    "        embed(name) as embedding\n",
    "    from fruits\n",
    "\"\"\").show()"
   ]
  },
  {
   "cell_type": "markdown",
   "metadata": {},
   "source": [
    "## Multilingual Translation\n",
    "\n",
    "Translate fruit names into multiple languages using OpenAI's GPT model."
   ]
  },
  {
   "cell_type": "code",
   "execution_count": null,
   "metadata": {},
   "outputs": [],
   "source": [
    "# Register UDF for multilingual translation\n",
    "import os\n",
    "\n",
    "from pydantic import BaseModel\n",
    "\n",
    "from openaivec.spark import responses_udf\n",
    "\n",
    "class Translation(BaseModel):\n",
    "    en: str\n",
    "    fr: str\n",
    "    ja: str\n",
    "    es: str\n",
    "    de: str\n",
    "    it: str\n",
    "    pt: str\n",
    "    ru: str\n",
    "\n",
    "spark.udf.register(\"translate\", responses_udf(\n",
    "    instructions=\"Translate the following text to English, French, Japanese, Spanish, German, Italian, Portuguese, and Russian.\",\n",
    "    response_format=Translation,\n",
    "    model_name=\"gpt-4.1-mini\"\n",
    "))"
   ]
  },
  {
   "cell_type": "code",
   "execution_count": 9,
   "metadata": {},
   "outputs": [
    {
     "name": "stderr",
     "output_type": "stream",
     "text": [
      "[Stage 11:==============================================>          (9 + 2) / 11]\r"
     ]
    },
    {
     "name": "stdout",
     "output_type": "stream",
     "text": [
      "+----------+-----------------------+----------+------+------------+-------+--------+--------+-------+--------+\n",
      "|      name|                      t|        en|    fr|          ja|     es|      de|      it|     pt|      ru|\n",
      "+----------+-----------------------+----------+------+------------+-------+--------+--------+-------+--------+\n",
      "|     apple| {apple, pomme, \u30ea\u30f3...|     apple| pomme|      \u30ea\u30f3\u30b4|manzana|   Apfel|    mela|   ma\u00e7\u00e3|  \u044f\u0431\u043b\u043e\u043a\u043e|\n",
      "|    banana|   {banana, banane, ...|    banana|banane|      \u30d0\u30ca\u30ca|pl\u00e1tano|  Banane|  banana| banana|   \u0431\u0430\u043d\u0430\u043d|\n",
      "|    cherry|   {cherry, cerise, ...|    cherry|cerise|  \u3055\u304f\u3089\u3093\u307c| cereza| Kirsche|ciliegia| cereja|   \u0432\u0438\u0448\u043d\u044f|\n",
      "|     mango|  {mango, mangue, \u30de...|     mango|mangue|    \u30de\u30f3\u30b4\u30fc|  mango|   Mango|   mango|  manga|   \u043c\u0430\u043d\u0433\u043e|\n",
      "|    orange|   {orange, orange, ...|    orange|orange|    \u30aa\u30ec\u30f3\u30b8|naranja|  Orange| arancia|laranja|\u0430\u043f\u0435\u043b\u044c\u0441\u0438\u043d|\n",
      "|     peach| {peach, p\u00eache, \u3082\u3082...|     peach| p\u00eache|        \u3082\u3082|durazno|Pfirsich|   pesca|p\u00eassego|  \u043f\u0435\u0440\u0441\u0438\u043a|\n",
      "|      pear|  {pear, poire, \u68a8, ...|      pear| poire|          \u68a8|   pera|   Birne|    pera|   p\u00eara|   \u0433\u0440\u0443\u0448\u0430|\n",
      "| pineapple|   {Pineapple, Anana...| Pineapple|Ananas|\u30d1\u30a4\u30ca\u30c3\u30d7\u30eb|   Pi\u00f1a|  Ananas|  Ananas|Abacaxi|  \u0410\u043d\u0430\u043d\u0430\u0441|\n",
      "|      plum|{plum, prune, \u30d7\u30e9\u30e0...|      plum| prune|      \u30d7\u30e9\u30e0|ciruela| Pflaume|  prugna| ameixa|   \u0441\u043b\u0438\u0432\u0430|\n",
      "|strawberry|   {strawberry, frai...|strawberry|fraise|      \u30a4\u30c1\u30b4|  fresa|Erdbeere| fragola|morango|\u043a\u043b\u0443\u0431\u043d\u0438\u043a\u0430|\n",
      "+----------+-----------------------+----------+------+------------+-------+--------+--------+-------+--------+\n",
      "\n"
     ]
    },
    {
     "name": "stderr",
     "output_type": "stream",
     "text": [
      "                                                                                \r"
     ]
    }
   ],
   "source": [
    "# Display translations for each fruit name\n",
    "spark.sql(\"\"\"\n",
    "    select\n",
    "        name,\n",
    "        translate(name) as t,\n",
    "        t.en as en,\n",
    "        t.fr as fr,\n",
    "        t.ja as ja,\n",
    "        t.es as es,\n",
    "        t.de as de,\n",
    "        t.it as it,\n",
    "        t.pt as pt,\n",
    "        t.ru as ru\n",
    "    from fruits\n",
    "\"\"\").show()"
   ]
  },
  {
   "cell_type": "markdown",
   "metadata": {},
   "source": [
    "## Conclusion\n",
    "\n",
    "This notebook illustrated how to effectively integrate Apache Spark with OpenAI's API for various NLP tasks such as token counting, embedding generation, and multilingual translation."
   ]
  }
 ],
 "metadata": {
  "kernelspec": {
   "display_name": "openaivec (3.13.3)",
   "language": "python",
   "name": "python3"
  },
  "language_info": {
   "codemirror_mode": {
    "name": "ipython",
    "version": 3
   },
   "file_extension": ".py",
   "mimetype": "text/x-python",
   "name": "python",
   "nbconvert_exporter": "python",
   "pygments_lexer": "ipython3",
   "version": "3.13.3"
  }
 },
 "nbformat": 4,
 "nbformat_minor": 2
}