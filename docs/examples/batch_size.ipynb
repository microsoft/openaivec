{
 "cells": [
  {
   "cell_type": "markdown",
   "id": "9e7b9d8f",
   "metadata": {},
   "source": [
    "# Token Count and Processing Time Considerations"
   ]
  },
  {
   "cell_type": "markdown",
   "id": "df5dfb11",
   "metadata": {},
   "source": [
    "Choosing an appropriate batch size can significantly impact the performance and stability of a system. An excessively small batch size can increase the overhead of API calls, leading to longer overall processing times. Conversely, an excessively large batch size can cause various issues, such as application timeouts.\n",
    "\n",
    "How should we determine the appropriate batch size?\n",
    "\n",
    "`openaivec` allows you to automatically determine the optimal batch size using a simple algorithm by specifying `batch_size=None`.\n",
    "In this document, we will introduce the results of investigating the relationship between batch size and processing time using `BatchSizeSuggester` from `openaivec`.\n",
    "\n",
    "We will use the `gpt-5-nano` model for the experiments in this document."
   ]
  },
  {
   "cell_type": "code",
   "execution_count": null,
   "id": "d2a847fb",
   "metadata": {},
   "outputs": [],
   "source": [
    "import pandas as pd\n",
    "\n",
    "from openaivec import pandas_ext\n",
    "# Note: These are internal APIs and not recommended for general use\n",
    "from openaivec._optimize import BatchSizeSuggester\n",
    "from openaivec._proxy import AsyncBatchingMapProxy\n",
    "\n",
    "pandas_ext.set_responses_model(\"gpt-5-nano\")"
   ]
  },
  {
   "cell_type": "markdown",
   "id": "7897b719",
   "metadata": {},
   "source": [
    "**⚠️ Warning: Advanced Internal API Usage**\n",
    "\n",
    "This notebook demonstrates the use of internal APIs (`BatchSizeSuggester` and `AsyncBatchingMapProxy`) for performance analysis purposes. These APIs are not part of the public interface and may change in future versions.\n",
    "\n",
    "For typical use cases, simply use `batch_size=None` in pandas `.ai` or `.aio` methods, which will automatically optimize batch size without requiring direct interaction with these internal components.\n",
    "\n",
    "---\n",
    "\n",
    "This is a low-level API that you are unlikely to use. The `AsyncBatchingMapProxy` has a parameter called `batch_size`, \n",
    "which, when set to `None`, allows the `BatchSizeSuggester` to automatically determine the batch size.\n",
    "\n",
    "The fields of `BatchSizeSuggester` are hyperparameters for batch size optimization, and we will use them for performance investigation.\n",
    "\n",
    "This configuration determines the batch size sequentially through the following steps:\n",
    "1. The initial batch size is set to 10.\n",
    "2. As records accumulate, it retrieves the most recent `sample_size=3` samples and calculates the average processing time.\n",
    "3. If this average processing time is below `min_duration=60` seconds, it increases the batch size by `1 + step_ratio`.\n",
    "4. Conversely, if the average processing time exceeds `max_duration=120` seconds, it decreases the batch size by `1 - step_ratio`.\n",
    "5. This process is repeated to find the optimal batch size.\n",
    "\n",
    "While a duration of 60 to 180 seconds is quite long for typical applications, we use these longer durations for performance analysis. \n",
    "\n",
    "For example, in systems like Apache Spark, various processes have timeouts set to several minutes."
   ]
  },
  {
   "cell_type": "markdown",
   "id": "7908277a",
   "metadata": {},
   "source": []
  },
  {
   "cell_type": "code",
   "execution_count": 2,
   "id": "450e4b4f",
   "metadata": {},
   "outputs": [],
   "source": [
    "suggester = BatchSizeSuggester(\n",
    "    current_batch_size=10,\n",
    "    min_batch_size=10,\n",
    "    min_duration=60,\n",
    "    max_duration=180,\n",
    "    step_ratio=0.2,\n",
    "    sample_size=3\n",
    ")\n",
    "\n",
    "cache = AsyncBatchingMapProxy(\n",
    "    batch_size=None,\n",
    "    max_concurrency=8,\n",
    "    show_progress=True,\n",
    "    suggester=suggester\n",
    ")"
   ]
  },
  {
   "cell_type": "markdown",
   "id": "69ee85f0",
   "metadata": {},
   "source": [
    "For this time, we will repeat a simple task many times. Specifically, when given an employee ID, we will generate a random name.\n",
    "\n",
    "We will execute this task while varying the `batch_size` and record the processing time for each batch."
   ]
  },
  {
   "cell_type": "code",
   "execution_count": 3,
   "id": "13a5bc2e",
   "metadata": {},
   "outputs": [
    {
     "data": {
      "application/vnd.jupyter.widget-view+json": {
       "model_id": "e000d9fd9191486c9856eefc11c06f3f",
       "version_major": 2,
       "version_minor": 0
      },
      "text/plain": [
       "Processing batches:   0%|          | 0/10000 [00:00<?, ?item/s]"
      ]
     },
     "metadata": {},
     "output_type": "display_data"
    },
    {
     "data": {
      "text/html": [
       "<div>\n",
       "<style scoped>\n",
       "    .dataframe tbody tr th:only-of-type {\n",
       "        vertical-align: middle;\n",
       "    }\n",
       "\n",
       "    .dataframe tbody tr th {\n",
       "        vertical-align: top;\n",
       "    }\n",
       "\n",
       "    .dataframe thead th {\n",
       "        text-align: right;\n",
       "    }\n",
       "</style>\n",
       "<table border=\"1\" class=\"dataframe\">\n",
       "  <thead>\n",
       "    <tr style=\"text-align: right;\">\n",
       "      <th></th>\n",
       "      <th>id</th>\n",
       "      <th>name</th>\n",
       "    </tr>\n",
       "  </thead>\n",
       "  <tbody>\n",
       "    <tr>\n",
       "      <th>0</th>\n",
       "      <td>0</td>\n",
       "      <td>Oliver Reed</td>\n",
       "    </tr>\n",
       "    <tr>\n",
       "      <th>1</th>\n",
       "      <td>1</td>\n",
       "      <td>Amelia Hart</td>\n",
       "    </tr>\n",
       "    <tr>\n",
       "      <th>2</th>\n",
       "      <td>2</td>\n",
       "      <td>Benjamin Cole</td>\n",
       "    </tr>\n",
       "    <tr>\n",
       "      <th>3</th>\n",
       "      <td>3</td>\n",
       "      <td>Sophia Lane</td>\n",
       "    </tr>\n",
       "    <tr>\n",
       "      <th>4</th>\n",
       "      <td>4</td>\n",
       "      <td>Lucas Miles</td>\n",
       "    </tr>\n",
       "    <tr>\n",
       "      <th>...</th>\n",
       "      <td>...</td>\n",
       "      <td>...</td>\n",
       "    </tr>\n",
       "    <tr>\n",
       "      <th>9995</th>\n",
       "      <td>9995</td>\n",
       "      <td>Lena Stone</td>\n",
       "    </tr>\n",
       "    <tr>\n",
       "      <th>9996</th>\n",
       "      <td>9996</td>\n",
       "      <td>Owen Miles</td>\n",
       "    </tr>\n",
       "    <tr>\n",
       "      <th>9997</th>\n",
       "      <td>9997</td>\n",
       "      <td>Cleo Bryant</td>\n",
       "    </tr>\n",
       "    <tr>\n",
       "      <th>9998</th>\n",
       "      <td>9998</td>\n",
       "      <td>Trevor Lane</td>\n",
       "    </tr>\n",
       "    <tr>\n",
       "      <th>9999</th>\n",
       "      <td>9999</td>\n",
       "      <td>Nadia Parks</td>\n",
       "    </tr>\n",
       "  </tbody>\n",
       "</table>\n",
       "<p>10000 rows × 2 columns</p>\n",
       "</div>"
      ],
      "text/plain": [
       "        id           name\n",
       "0        0    Oliver Reed\n",
       "1        1    Amelia Hart\n",
       "2        2  Benjamin Cole\n",
       "3        3    Sophia Lane\n",
       "4        4    Lucas Miles\n",
       "...    ...            ...\n",
       "9995  9995     Lena Stone\n",
       "9996  9996     Owen Miles\n",
       "9997  9997    Cleo Bryant\n",
       "9998  9998    Trevor Lane\n",
       "9999  9999    Nadia Parks\n",
       "\n",
       "[10000 rows x 2 columns]"
      ]
     },
     "execution_count": 3,
     "metadata": {},
     "output_type": "execute_result"
    }
   ],
   "source": [
    "await pd.DataFrame({\"id\": list(range(10000))}).aio.assign(\n",
    "    name=lambda df: df.aio.responses_with_cache(\n",
    "        instructions=\"\"\"\n",
    "        For each employee ID, generate a random name in English, including both first and last names. \n",
    "        Just return the name without any additional text.\n",
    "        \"\"\",\n",
    "        temperature=None,\n",
    "        cache=cache,\n",
    "    )\n",
    ")"
   ]
  },
  {
   "cell_type": "markdown",
   "id": "f1f26396",
   "metadata": {},
   "source": [
    "`BatchSizeSuggester` records the processing time and exceptions for each batch as follows. Let's aggregate this data to investigate the relationship between batch size and processing time."
   ]
  },
  {
   "cell_type": "code",
   "execution_count": 4,
   "id": "10a90889",
   "metadata": {},
   "outputs": [
    {
     "data": {
      "text/html": [
       "<div>\n",
       "<style scoped>\n",
       "    .dataframe tbody tr th:only-of-type {\n",
       "        vertical-align: middle;\n",
       "    }\n",
       "\n",
       "    .dataframe tbody tr th {\n",
       "        vertical-align: top;\n",
       "    }\n",
       "\n",
       "    .dataframe thead th {\n",
       "        text-align: right;\n",
       "    }\n",
       "</style>\n",
       "<table border=\"1\" class=\"dataframe\">\n",
       "  <thead>\n",
       "    <tr style=\"text-align: right;\">\n",
       "      <th></th>\n",
       "      <th>duration</th>\n",
       "      <th>batch_size</th>\n",
       "      <th>executed_at</th>\n",
       "      <th>exception</th>\n",
       "    </tr>\n",
       "  </thead>\n",
       "  <tbody>\n",
       "    <tr>\n",
       "      <th>0</th>\n",
       "      <td>4.774321</td>\n",
       "      <td>10</td>\n",
       "      <td>2025-08-13 10:24:57.245258+00:00</td>\n",
       "      <td>None</td>\n",
       "    </tr>\n",
       "    <tr>\n",
       "      <th>1</th>\n",
       "      <td>6.607769</td>\n",
       "      <td>10</td>\n",
       "      <td>2025-08-13 10:24:57.127725+00:00</td>\n",
       "      <td>None</td>\n",
       "    </tr>\n",
       "    <tr>\n",
       "      <th>2</th>\n",
       "      <td>7.508548</td>\n",
       "      <td>10</td>\n",
       "      <td>2025-08-13 10:24:57.247499+00:00</td>\n",
       "      <td>None</td>\n",
       "    </tr>\n",
       "    <tr>\n",
       "      <th>3</th>\n",
       "      <td>8.048153</td>\n",
       "      <td>10</td>\n",
       "      <td>2025-08-13 10:24:57.246682+00:00</td>\n",
       "      <td>None</td>\n",
       "    </tr>\n",
       "    <tr>\n",
       "      <th>4</th>\n",
       "      <td>8.557814</td>\n",
       "      <td>10</td>\n",
       "      <td>2025-08-13 10:24:57.246033+00:00</td>\n",
       "      <td>None</td>\n",
       "    </tr>\n",
       "    <tr>\n",
       "      <th>...</th>\n",
       "      <td>...</td>\n",
       "      <td>...</td>\n",
       "      <td>...</td>\n",
       "      <td>...</td>\n",
       "    </tr>\n",
       "    <tr>\n",
       "      <th>187</th>\n",
       "      <td>25.374727</td>\n",
       "      <td>134</td>\n",
       "      <td>2025-08-13 10:30:41.271673+00:00</td>\n",
       "      <td>None</td>\n",
       "    </tr>\n",
       "    <tr>\n",
       "      <th>188</th>\n",
       "      <td>35.114657</td>\n",
       "      <td>151</td>\n",
       "      <td>2025-08-13 10:30:31.814291+00:00</td>\n",
       "      <td>None</td>\n",
       "    </tr>\n",
       "    <tr>\n",
       "      <th>189</th>\n",
       "      <td>33.780222</td>\n",
       "      <td>181</td>\n",
       "      <td>2025-08-13 10:30:34.815913+00:00</td>\n",
       "      <td>None</td>\n",
       "    </tr>\n",
       "    <tr>\n",
       "      <th>190</th>\n",
       "      <td>41.746972</td>\n",
       "      <td>151</td>\n",
       "      <td>2025-08-13 10:30:34.014817+00:00</td>\n",
       "      <td>None</td>\n",
       "    </tr>\n",
       "    <tr>\n",
       "      <th>191</th>\n",
       "      <td>37.831411</td>\n",
       "      <td>181</td>\n",
       "      <td>2025-08-13 10:30:39.196203+00:00</td>\n",
       "      <td>None</td>\n",
       "    </tr>\n",
       "  </tbody>\n",
       "</table>\n",
       "<p>192 rows × 4 columns</p>\n",
       "</div>"
      ],
      "text/plain": [
       "      duration  batch_size                      executed_at exception\n",
       "0     4.774321          10 2025-08-13 10:24:57.245258+00:00      None\n",
       "1     6.607769          10 2025-08-13 10:24:57.127725+00:00      None\n",
       "2     7.508548          10 2025-08-13 10:24:57.247499+00:00      None\n",
       "3     8.048153          10 2025-08-13 10:24:57.246682+00:00      None\n",
       "4     8.557814          10 2025-08-13 10:24:57.246033+00:00      None\n",
       "..         ...         ...                              ...       ...\n",
       "187  25.374727         134 2025-08-13 10:30:41.271673+00:00      None\n",
       "188  35.114657         151 2025-08-13 10:30:31.814291+00:00      None\n",
       "189  33.780222         181 2025-08-13 10:30:34.815913+00:00      None\n",
       "190  41.746972         151 2025-08-13 10:30:34.014817+00:00      None\n",
       "191  37.831411         181 2025-08-13 10:30:39.196203+00:00      None\n",
       "\n",
       "[192 rows x 4 columns]"
      ]
     },
     "execution_count": 4,
     "metadata": {},
     "output_type": "execute_result"
    }
   ],
   "source": [
    "pd.DataFrame(suggester._history)"
   ]
  },
  {
   "cell_type": "code",
   "execution_count": 5,
   "id": "3f3f9e95",
   "metadata": {},
   "outputs": [],
   "source": [
    "pd.DataFrame(suggester._history).to_csv(\"suggester_history.csv\", index=False)\n"
   ]
  },
  {
   "cell_type": "code",
   "execution_count": 6,
   "id": "a5c36ef4",
   "metadata": {},
   "outputs": [
    {
     "data": {
      "text/plain": [
       "<Axes: title={'center': 'Batch Size vs Duration'}, xlabel='Batch Size', ylabel='Each Duration (seconds)'>"
      ]
     },
     "execution_count": 6,
     "metadata": {},
     "output_type": "execute_result"
    },
    {
     "data": {
      "image/png": "[encoded data removed]",
      "text/plain": [
       "<Figure size 640x480 with 1 Axes>"
      ]
     },
     "metadata": {},
     "output_type": "display_data"
    }
   ],
   "source": [
    "pd.read_csv(\"suggester_history.csv\").plot(\n",
    "    x=\"batch_size\",\n",
    "    y=\"duration\",\n",
    "    kind=\"scatter\",\n",
    "    title=\"Batch Size vs Duration\",\n",
    "    xlabel=\"Batch Size\",\n",
    "    ylabel=\"Each Duration (seconds)\",\n",
    ")"
   ]
  },
  {
   "cell_type": "markdown",
   "id": "b1074106",
   "metadata": {},
   "source": [
    "x-axis represents the batch size, and the y-axis represents the processing time for each batch. As expected, as the batch size increases, the processing time for each batch also increases.\n",
    "\n",
    "\n",
    "However, it appears that the rate of increase in processing time becomes more gradual as the batch size increases. Let's verify this in the next figure.\n"
   ]
  },
  {
   "cell_type": "code",
   "execution_count": 8,
   "id": "8c92784b",
   "metadata": {},
   "outputs": [
    {
     "data": {
      "text/plain": [
       "<Axes: title={'center': 'Batch Size vs Unit Duration'}, xlabel='Batch Size', ylabel='Average Duration per Item (seconds)'>"
      ]
     },
     "execution_count": 8,
     "metadata": {},
     "output_type": "execute_result"
    },
    {
     "data": {
      "image/png": "[encoded data removed]",
      "text/plain": [
       "<Figure size 640x480 with 1 Axes>"
      ]
     },
     "metadata": {},
     "output_type": "display_data"
    }
   ],
   "source": [
    "pd.read_csv(\"suggester_history.csv\").assign(\n",
    "    label = lambda df: df[\"batch_size\"]\n",
    ").pipe(\n",
    "    lambda df: df.groupby(\"label\").sum([\"duration\", \"batch_size\"]).reset_index()\n",
    ").assign(\n",
    "    unit_duration=lambda df: df[\"duration\"] / df[\"batch_size\"]\n",
    ").plot(\n",
    "    x=\"label\",\n",
    "    y=\"unit_duration\",\n",
    "    kind=\"bar\",\n",
    "    title=\"Batch Size vs Unit Duration\",\n",
    "    xlabel=\"Batch Size\",\n",
    "    ylabel=\"Average Duration per Item (seconds)\",\n",
    "\n",
    ")"
   ]
  },
  {
   "cell_type": "markdown",
   "id": "994717da",
   "metadata": {},
   "source": [
    "This figure shows the relationship between batch size and average processing time per item.\n",
    "\n",
    "Increasing the batch size gradually leads to larger processing times at first, because the OpenAI API's prompt caching benefits have not yet taken effect.\n",
    "\n",
    "However, as the batch size increases, the average processing time gradually decreases. This is because the execution time of the batch includes overhead for API calls, so fewer calls result in shorter average processing times.\n",
    "\n",
    "`openaivec` provides a feature to limit the processing time of each batch, allowing for stable data processing."
   ]
  },
  {
   "cell_type": "code",
   "execution_count": null,
   "id": "75b8bd36",
   "metadata": {},
   "outputs": [],
   "source": []
  }
 ],
 "metadata": {
  "kernelspec": {
   "display_name": "openaivec (3.13.3)",
   "language": "python",
   "name": "python3"
  },
  "language_info": {
   "codemirror_mode": {
    "name": "ipython",
    "version": 3
   },
   "file_extension": ".py",
   "mimetype": "text/x-python",
   "name": "python",
   "nbconvert_exporter": "python",
   "pygments_lexer": "ipython3",
   "version": "3.13.3"
  }
 },
 "nbformat": 4,
 "nbformat_minor": 5
}