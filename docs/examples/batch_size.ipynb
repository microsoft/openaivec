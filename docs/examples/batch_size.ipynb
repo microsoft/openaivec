{
 "cells": [
  {
   "cell_type": "markdown",
   "id": "9e7b9d8f",
   "metadata": {},
   "source": [
    "# Considerations regarding number of tokens and duration."
   ]
  },
  {
   "cell_type": "markdown",
   "id": "df5dfb11",
   "metadata": {},
   "source": [
    "Deciding on an appropriate batch size can significantly impact the performance and stability of a system. An excessively small batch size can increase the overhead of API calls, leading to longer overall processing times. Conversely, an excessively large batch size can cause various issues, such as application timeouts.\n",
    "\n",
    "How should we determine the appropriate batch size?\n",
    "\n",
    "`openaivec` allows you to automatically determine the optimal batch size using a simple algorithm by specifying `batch_size=None`.\n",
    "In this document, we will introduce the results of investigating the relationship between batch size and processing time using `BatchSizeSuggester` from `openaivec`.\n",
    "\n",
    "And we will use the `gpt-5-nano` model for the experiments in this document."
   ]
  },
  {
   "cell_type": "code",
   "execution_count": 1,
   "id": "d2a847fb",
   "metadata": {},
   "outputs": [],
   "source": [
    "import pandas as pd\n",
    "\n",
    "from openaivec import pandas_ext\n",
    "from openaivec.optimize import BatchSizeSuggester\n",
    "from openaivec.proxy import AsyncBatchingMapProxy\n",
    "\n",
    "pandas_ext.responses_model(\"gpt-5-nano\")"
   ]
  },
  {
   "cell_type": "markdown",
   "id": "7897b719",
   "metadata": {},
   "source": [
    "This is a low-level API that you are unlikely to use. The `AsyncBachingMapProxy` has a parameter called `batch_size`, \n",
    "which, when set to `None`, allows the `BatchSizeSuggester` to automatically determine the batch size.\n",
    "\n",
    "The fields of `BatchSizeSuggester` are hyperparameters for batch size optimization, and we will use them for performance investigation.\n",
    "\n",
    "This configuration determines the batch size sequentially through the following steps:\n",
    "1. The initial batch size is set to 10.\n",
    "2. As records accumulate, it retrieves the most recent `sample_size=3` samples and calculates the average processing time.\n",
    "3. If this average processing time is below `min_duration=60` seconds, it increases the batch size by `1 + step_ratio`.\n",
    "4. Conversely, if the average processing time exceeds `max_duration=120` seconds, it decreases the batch size by `1 - step_ratio`.\n",
    "5. This process is repeated to find the optimal batch size.\n",
    "\n",
    "Actually, a duration of 60 to 180 seconds is quite long for application use cases, but here we set a longer duration for performance investigation.\n",
    "\n",
    "For example, in systems like Apache Spark, various processes have timeouts set to several minutes.\n"
   ]
  },
  {
   "cell_type": "markdown",
   "id": "7908277a",
   "metadata": {},
   "source": []
  },
  {
   "cell_type": "code",
   "execution_count": null,
   "id": "450e4b4f",
   "metadata": {},
   "outputs": [],
   "source": [
    "suggester = BatchSizeSuggester(\n",
    "    current_batch_size=10,\n",
    "    min_batch_size=10,\n",
    "    min_duration=60,\n",
    "    max_duration=180,\n",
    "    step_ratio=0.2,\n",
    "    sample_size=3\n",
    ")\n",
    "\n",
    "cache = AsyncBatchingMapProxy(\n",
    "    batch_size=None,\n",
    "    max_concurrency=8,\n",
    "    show_progress=True,\n",
    "    suggester=suggester\n",
    ")"
   ]
  },
  {
   "cell_type": "markdown",
   "id": "69ee85f0",
   "metadata": {},
   "source": [
    "So this time we will repeat a simple task many times. Specifically, when given an employee ID, we will generate a random name.\n",
    "We will execute this task while varying the `batch_size` and record the processing time for each batch."
   ]
  },
  {
   "cell_type": "code",
   "execution_count": null,
   "id": "13a5bc2e",
   "metadata": {},
   "outputs": [],
   "source": [
    "await pd.DataFrame({\"id\": list(range(10000))}).aio.assign(\n",
    "    name=lambda df: df.aio.responses_with_cache(\n",
    "        instructions=\"\"\"\n",
    "        For each employee ID, generate a random name in English, including both first and last names. \n",
    "        Just return the name without any additional text.\n",
    "        \"\"\",\n",
    "        temperature=None,\n",
    "        cache=cache,\n",
    "    )\n",
    ")"
   ]
  },
  {
   "cell_type": "markdown",
   "id": "f1f26396",
   "metadata": {},
   "source": [
    "`BatchSizeSuggester` records the processing time and exceptions for each batch as follows. Let's aggregate this data to investigate the relationship between batch size and processing time."
   ]
  },
  {
   "cell_type": "code",
   "execution_count": 3,
   "id": "10a90889",
   "metadata": {},
   "outputs": [
    {
     "data": {
      "text/html": [
       "<div>\n",
       "<style scoped>\n",
       "    .dataframe tbody tr th:only-of-type {\n",
       "        vertical-align: middle;\n",
       "    }\n",
       "\n",
       "    .dataframe tbody tr th {\n",
       "        vertical-align: top;\n",
       "    }\n",
       "\n",
       "    .dataframe thead th {\n",
       "        text-align: right;\n",
       "    }\n",
       "</style>\n",
       "<table border=\"1\" class=\"dataframe\">\n",
       "  <thead>\n",
       "    <tr style=\"text-align: right;\">\n",
       "      <th></th>\n",
       "      <th>duration</th>\n",
       "      <th>batch_size</th>\n",
       "      <th>executed_at</th>\n",
       "      <th>exception</th>\n",
       "    </tr>\n",
       "  </thead>\n",
       "  <tbody>\n",
       "    <tr>\n",
       "      <th>0</th>\n",
       "      <td>6.529500</td>\n",
       "      <td>10</td>\n",
       "      <td>2025-08-13 08:19:38.219822+00:00</td>\n",
       "      <td>None</td>\n",
       "    </tr>\n",
       "    <tr>\n",
       "      <th>1</th>\n",
       "      <td>6.932385</td>\n",
       "      <td>10</td>\n",
       "      <td>2025-08-13 08:19:38.221014+00:00</td>\n",
       "      <td>None</td>\n",
       "    </tr>\n",
       "    <tr>\n",
       "      <th>2</th>\n",
       "      <td>7.282095</td>\n",
       "      <td>10</td>\n",
       "      <td>2025-08-13 08:19:38.221642+00:00</td>\n",
       "      <td>None</td>\n",
       "    </tr>\n",
       "    <tr>\n",
       "      <th>3</th>\n",
       "      <td>7.482255</td>\n",
       "      <td>10</td>\n",
       "      <td>2025-08-13 08:19:38.219217+00:00</td>\n",
       "      <td>None</td>\n",
       "    </tr>\n",
       "    <tr>\n",
       "      <th>4</th>\n",
       "      <td>8.440178</td>\n",
       "      <td>10</td>\n",
       "      <td>2025-08-13 08:19:38.094814+00:00</td>\n",
       "      <td>None</td>\n",
       "    </tr>\n",
       "    <tr>\n",
       "      <th>...</th>\n",
       "      <td>...</td>\n",
       "      <td>...</td>\n",
       "      <td>...</td>\n",
       "      <td>...</td>\n",
       "    </tr>\n",
       "    <tr>\n",
       "      <th>189</th>\n",
       "      <td>37.052500</td>\n",
       "      <td>151</td>\n",
       "      <td>2025-08-13 08:25:29.178854+00:00</td>\n",
       "      <td>None</td>\n",
       "    </tr>\n",
       "    <tr>\n",
       "      <th>190</th>\n",
       "      <td>54.033252</td>\n",
       "      <td>151</td>\n",
       "      <td>2025-08-13 08:25:19.301176+00:00</td>\n",
       "      <td>None</td>\n",
       "    </tr>\n",
       "    <tr>\n",
       "      <th>191</th>\n",
       "      <td>50.985222</td>\n",
       "      <td>181</td>\n",
       "      <td>2025-08-13 08:25:29.886626+00:00</td>\n",
       "      <td>None</td>\n",
       "    </tr>\n",
       "    <tr>\n",
       "      <th>192</th>\n",
       "      <td>63.045245</td>\n",
       "      <td>151</td>\n",
       "      <td>2025-08-13 08:25:25.487982+00:00</td>\n",
       "      <td>None</td>\n",
       "    </tr>\n",
       "    <tr>\n",
       "      <th>193</th>\n",
       "      <td>112.521003</td>\n",
       "      <td>151</td>\n",
       "      <td>2025-08-13 08:24:54.889356+00:00</td>\n",
       "      <td>None</td>\n",
       "    </tr>\n",
       "  </tbody>\n",
       "</table>\n",
       "<p>194 rows × 4 columns</p>\n",
       "</div>"
      ],
      "text/plain": [
       "       duration  batch_size                      executed_at exception\n",
       "0      6.529500          10 2025-08-13 08:19:38.219822+00:00      None\n",
       "1      6.932385          10 2025-08-13 08:19:38.221014+00:00      None\n",
       "2      7.282095          10 2025-08-13 08:19:38.221642+00:00      None\n",
       "3      7.482255          10 2025-08-13 08:19:38.219217+00:00      None\n",
       "4      8.440178          10 2025-08-13 08:19:38.094814+00:00      None\n",
       "..          ...         ...                              ...       ...\n",
       "189   37.052500         151 2025-08-13 08:25:29.178854+00:00      None\n",
       "190   54.033252         151 2025-08-13 08:25:19.301176+00:00      None\n",
       "191   50.985222         181 2025-08-13 08:25:29.886626+00:00      None\n",
       "192   63.045245         151 2025-08-13 08:25:25.487982+00:00      None\n",
       "193  112.521003         151 2025-08-13 08:24:54.889356+00:00      None\n",
       "\n",
       "[194 rows x 4 columns]"
      ]
     },
     "execution_count": 3,
     "metadata": {},
     "output_type": "execute_result"
    }
   ],
   "source": [
    "pd.DataFrame(suggester._history)"
   ]
  },
  {
   "cell_type": "code",
   "execution_count": 4,
   "id": "3f3f9e95",
   "metadata": {},
   "outputs": [],
   "source": [
    "pd.DataFrame(suggester._history).to_csv(\"suggester_history.csv\", index=False)\n"
   ]
  },
  {
   "cell_type": "code",
   "execution_count": 6,
   "id": "a5c36ef4",
   "metadata": {},
   "outputs": [
    {
     "data": {
      "text/plain": [
       "<Axes: title={'center': 'Batch Size vs Duration'}, xlabel='Batch Size', ylabel='Each Duration (seconds)'>"
      ]
     },
     "execution_count": 6,
     "metadata": {},
     "output_type": "execute_result"
    },
    {
     "data": {
      "image/png": "[encoded data removed]",
      "text/plain": [
       "<Figure size 640x480 with 1 Axes>"
      ]
     },
     "metadata": {},
     "output_type": "display_data"
    }
   ],
   "source": [
    "pd.read_csv(\"suggester_history.csv\").plot(\n",
    "    x=\"batch_size\",\n",
    "    y=\"duration\",\n",
    "    kind=\"scatter\",\n",
    "    title=\"Batch Size vs Duration\",\n",
    "    xlabel=\"Batch Size\",\n",
    "    ylabel=\"Each Duration (seconds)\",\n",
    ")"
   ]
  },
  {
   "cell_type": "markdown",
   "id": "b1074106",
   "metadata": {},
   "source": [
    "x-axis represents the batch size, and the y-axis represents the processing time for each batch. As expected, as the batch size increases, the processing time for each batch also increases.\n",
    "However, it appears that the rate of increase in processing time becomes more gradual as the batch size increases. Let's verify this in the next figure.\n"
   ]
  },
  {
   "cell_type": "code",
   "execution_count": 7,
   "id": "8c92784b",
   "metadata": {},
   "outputs": [
    {
     "data": {
      "text/plain": [
       "<Axes: title={'center': 'Batch Size vs Unit Duration'}, xlabel='Batch Size', ylabel='Average Duration per Item (seconds)'>"
      ]
     },
     "execution_count": 7,
     "metadata": {},
     "output_type": "execute_result"
    },
    {
     "data": {
      "image/png": "[encoded data removed]",
      "text/plain": [
       "<Figure size 640x480 with 1 Axes>"
      ]
     },
     "metadata": {},
     "output_type": "display_data"
    }
   ],
   "source": [
    "pd.read_csv(\"suggester_history.csv\")[:-1].pipe(\n",
    "    lambda df: df.groupby(\"batch_size\").sum(\"duration\").reset_index()\n",
    ").assign(\n",
    "    unit_duration=lambda df: df[\"duration\"] / df[\"batch_size\"]\n",
    ").plot(\n",
    "    x=\"batch_size\",\n",
    "    y=\"unit_duration\",\n",
    "    kind=\"bar\",\n",
    "    title=\"Batch Size vs Unit Duration\",\n",
    "    xlabel=\"Batch Size\",\n",
    "    ylabel=\"Average Duration per Item (seconds)\",\n",
    "\n",
    ")"
   ]
  },
  {
   "cell_type": "markdown",
   "id": "994717da",
   "metadata": {},
   "source": [
    "This figure shows the relationship between batch size and average processing time per item.\n",
    "Increasing the batch size gradually leads to larger processing times at first, as the OpenAI API's prompt cache benefits are not yet realized.\n",
    "However, as the batch size increases, the average processing time gradually decreases. This is because the execution time of the batch includes overhead for API calls, so fewer calls result in shorter average processing times.\n",
    "\n",
    "`openaivec` provides a feature to limit the processing time of each batch, allowing for stable data processing."
   ]
  },
  {
   "cell_type": "markdown",
   "id": "ded059b1",
   "metadata": {},
   "source": []
  }
 ],
 "metadata": {
  "kernelspec": {
   "display_name": "openaivec (3.13.3)",
   "language": "python",
   "name": "python3"
  },
  "language_info": {
   "codemirror_mode": {
    "name": "ipython",
    "version": 3
   },
   "file_extension": ".py",
   "mimetype": "text/x-python",
   "name": "python",
   "nbconvert_exporter": "python",
   "pygments_lexer": "ipython3",
   "version": "3.13.3"
  }
 },
 "nbformat": 4,
 "nbformat_minor": 5
}
