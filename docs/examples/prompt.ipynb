{
 "cells": [
  {
   "cell_type": "markdown",
   "metadata": {},
   "source": [
    "# Basics of prompt\n",
    "\n",
    "This notebook demonstrates how to use `FewShotPromptBuilder` to create structured prompts for OpenAI models."
   ]
  },
  {
   "cell_type": "code",
   "execution_count": 1,
   "metadata": {},
   "outputs": [],
   "source": [
    "# Import FewShotPromptBuilder from openaivec\n",
    "from openaivec.prompt import FewShotPromptBuilder"
   ]
  },
  {
   "cell_type": "markdown",
   "metadata": {},
   "source": [
    "## Basic Usage\n",
    "Create a simple prompt with purpose, cautions, and examples."
   ]
  },
  {
   "cell_type": "code",
   "execution_count": 2,
   "metadata": {},
   "outputs": [
    {
     "name": "stdout",
     "output_type": "stream",
     "text": [
      "<Prompt>\n",
      "  <Purpose>some purpose</Purpose>\n",
      "  <Cautions>\n",
      "    <Caution>some caution</Caution>\n",
      "    <Caution>some other caution</Caution>\n",
      "  </Cautions>\n",
      "  <Examples>\n",
      "    <Example>\n",
      "      <Input>some input</Input>\n",
      "      <Output>some output</Output>\n",
      "    </Example>\n",
      "    <Example>\n",
      "      <Input>some other input</Input>\n",
      "      <Output>some other output</Output>\n",
      "    </Example>\n",
      "  </Examples>\n",
      "</Prompt>\n"
     ]
    }
   ],
   "source": [
    "# Build a basic prompt with purpose, cautions, and examples\n",
    "prompt_str: str = (\n",
    "    FewShotPromptBuilder()\n",
    "    .purpose(\"some purpose\")\n",
    "    .caution(\"some caution\")\n",
    "    .caution(\"some other caution\")\n",
    "    .example(\n",
    "        input_value=\"some input\",\n",
    "        output_value=\"some output\"\n",
    "    )\n",
    "    .example(\n",
    "        input_value=\"some other input\",\n",
    "        output_value=\"some other output\"\n",
    "    )\n",
    "    .build()\n",
    ")\n",
    "\n",
    "# Print the generated prompt\n",
    "print(prompt_str)"
   ]
  },
  {
   "cell_type": "markdown",
   "metadata": {},
   "source": [
    "## Structured Output Example\n",
    "Demonstrate how to use a structured output with Pydantic models."
   ]
  },
  {
   "cell_type": "code",
   "execution_count": 3,
   "metadata": {},
   "outputs": [
    {
     "name": "stdout",
     "output_type": "stream",
     "text": [
      "<Prompt>\n",
      "  <Purpose>some purpose</Purpose>\n",
      "  <Cautions>\n",
      "    <Caution>some caution</Caution>\n",
      "    <Caution>some other caution</Caution>\n",
      "  </Cautions>\n",
      "  <Examples>\n",
      "    <Example>\n",
      "      <Input>some input</Input>\n",
      "      <Output>{\"field1\":\"some field\",\"field2\":\"some other field\"}</Output>\n",
      "    </Example>\n",
      "    <Example>\n",
      "      <Input>some other input</Input>\n",
      "      <Output>{\"field1\":\"some field\",\"field2\":\"some other field\"}</Output>\n",
      "    </Example>\n",
      "  </Examples>\n",
      "</Prompt>\n"
     ]
    }
   ],
   "source": [
    "# Import BaseModel from pydantic for structured outputs\n",
    "from pydantic import BaseModel\n",
    "\n",
    "# Define a structured result model\n",
    "class Result(BaseModel):\n",
    "    field1: str\n",
    "    field2: str\n",
    "\n",
    "# Build a prompt using structured examples\n",
    "prompt_str: str = (\n",
    "    FewShotPromptBuilder()\n",
    "    .purpose(\"some purpose\")\n",
    "    .caution(\"some caution\")\n",
    "    .caution(\"some other caution\")\n",
    "    .example(\n",
    "        input_value=\"some input\",\n",
    "        output_value=Result(field1=\"some field\", field2=\"some other field\")\n",
    "    )\n",
    "    .example(\n",
    "        input_value=\"some other input\",\n",
    "        output_value=Result(field1=\"some field\", field2=\"some other field\")\n",
    "    )\n",
    "    .build()\n",
    ")\n",
    "\n",
    "# Print the structured prompt\n",
    "print(prompt_str)"
   ]
  },
  {
   "cell_type": "markdown",
   "metadata": {},
   "source": [
    "## Improving Prompts with LLM\n",
    "Use an OpenAI model to automatically improve and explain the prompt."
   ]
  },
  {
   "cell_type": "code",
   "execution_count": 4,
   "metadata": {},
   "outputs": [
    {
     "name": "stdout",
     "output_type": "stream",
     "text": [
      "=== Iteration 1 ===\n",
      "\n",
      "Instruction: The original purpose was too simplistic and did not specify that the task involves returning a structured JSON response. This lack of clarity could lead to confusion about the expected output format. In this iteration, we refined the purpose to explicitly state that the goal is to return a JSON object containing the fruit's name and color.\n",
      "--- before\n",
      "+++ after\n",
      "@@ -1,7 +1,7 @@\n",
      " <Prompt>\n",
      "-  <Purpose>Return the color of given fruit</Purpose>\n",
      "+  <Purpose>Return a JSON object containing the name and color of the given fruit.</Purpose>\n",
      "   <Cautions>\n",
      "-    <Caution>The fruit name should be in English</Caution>\n",
      "+    <Caution>The fruit name should be in English.</Caution>\n",
      "   </Cautions>\n",
      "   <Examples>\n",
      "     <Example>\n",
      "=== Iteration 2 ===\n",
      "\n",
      "Instruction: Next, we focused on the cautions section. The original caution only mentioned that the fruit name should be in English, which is too narrow. It did not address potential issues such as the need for correct spelling or the possibility of ambiguous fruit names. This could lead to incorrect outputs. Therefore, we added cautions regarding spelling and ambiguity.\n",
      "--- before\n",
      "+++ after\n",
      "@@ -2,6 +2,8 @@\n",
      "   <Purpose>Return a JSON object containing the name and color of the given fruit.</Purpose>\n",
      "   <Cautions>\n",
      "     <Caution>The fruit name should be in English.</Caution>\n",
      "+    <Caution>Ensure the spelling of the fruit name is correct.</Caution>\n",
      "+    <Caution>Be aware of ambiguous fruit names that may have multiple interpretations.</Caution>\n",
      "   </Cautions>\n",
      "   <Examples>\n",
      "     <Example>\n",
      "=== Iteration 3 ===\n",
      "\n",
      "Instruction: In this step, we improved the examples section to cover a broader range of fruits and their colors. The original examples were limited and did not include fruits that might be less common or have different colors. By adding more diverse examples, we enhance the understanding of the task and ensure better coverage. This iteration only modifies the examples section, leaving purpose and cautions intact.\n",
      "--- before\n",
      "+++ after\n",
      "@@ -26,5 +26,21 @@\n",
      "       <Input>Blueberry</Input>\n",
      "       <Output>{\"name\":\"Blueberry\",\"color\":\"Blue\"}</Output>\n",
      "     </Example>\n",
      "+    <Example>\n",
      "+      <Input>Grape</Input>\n",
      "+      <Output>{\"name\":\"Grape\",\"color\":\"Purple\"}</Output>\n",
      "+    </Example>\n",
      "+    <Example>\n",
      "+      <Input>Orange</Input>\n",
      "+      <Output>{\"name\":\"Orange\",\"color\":\"Orange\"}</Output>\n",
      "+    </Example>\n",
      "+    <Example>\n",
      "+      <Input>Kiwi</Input>\n",
      "+      <Output>{\"name\":\"Kiwi\",\"color\":\"Brown\"}</Output>\n",
      "+    </Example>\n",
      "+    <Example>\n",
      "+      <Input>Watermelon</Input>\n",
      "+      <Output>{\"name\":\"Watermelon\",\"color\":\"Green\"}</Output>\n",
      "+    </Example>\n",
      "   </Examples>\n",
      " </Prompt>\n",
      "=== Iteration 4 ===\n",
      "\n",
      "Instruction: In this final iteration, we reviewed the entire prompt to ensure no issues remain. We found that the examples were well-rounded, but we needed to ensure that the output format was consistent. We standardized the output format to ensure it is always a JSON string, which is crucial for clarity and consistency. This final adjustment ensures that the prompt is clear and unambiguous.\n"
     ]
    }
   ],
   "source": [
    "# Import OpenAI client\n",
    "from openai import OpenAI\n",
    "\n",
    "# Initialize OpenAI client\n",
    "client = OpenAI()\n",
    "\n",
    "# Define a structured model for fruits\n",
    "class Fruit(BaseModel):\n",
    "    name: str\n",
    "    color: str\n",
    "\n",
    "# Build and improve the prompt using OpenAI's GPT model\n",
    "prompt: str = (\n",
    "    FewShotPromptBuilder()\n",
    "    .purpose(\"Return the color of given fruit\")\n",
    "    .caution(\"The fruit name should be in English\")\n",
    "    .example(\"Apple\", Fruit(name=\"Apple\", color=\"Red\"))\n",
    "    .example(\"Peach\", Fruit(name=\"Peach\", color=\"Pink\"))\n",
    "    .example(\"Banana\", Fruit(name=\"Banana\", color=\"Yellow\"))\n",
    "    .example(\"Strawberry\", Fruit(name=\"Strawberry\", color=\"Red\"))\n",
    "    .example(\"Blueberry\", Fruit(name=\"Blueberry\", color=\"Blue\"))\n",
    "    .improve(client=client, model_name=\"gpt-4o-mini\")\n",
    "    .explain()\n",
    "    .build()\n",
    ")"
   ]
  },
  {
   "cell_type": "markdown",
   "metadata": {},
   "source": [
    "## Display Improved Prompt\n",
    "Output the improved and explained prompt."
   ]
  },
  {
   "cell_type": "code",
   "execution_count": 5,
   "metadata": {},
   "outputs": [
    {
     "name": "stdout",
     "output_type": "stream",
     "text": [
      "<Prompt>\n",
      "  <Purpose>Return a JSON object containing the name and color of the given fruit.</Purpose>\n",
      "  <Cautions>\n",
      "    <Caution>The fruit name should be in English.</Caution>\n",
      "    <Caution>Ensure the spelling of the fruit name is correct.</Caution>\n",
      "    <Caution>Be aware of ambiguous fruit names that may have multiple interpretations.</Caution>\n",
      "  </Cautions>\n",
      "  <Examples>\n",
      "    <Example>\n",
      "      <Input>Apple</Input>\n",
      "      <Output>{\"name\":\"Apple\",\"color\":\"Red\"}</Output>\n",
      "    </Example>\n",
      "    <Example>\n",
      "      <Input>Peach</Input>\n",
      "      <Output>{\"name\":\"Peach\",\"color\":\"Pink\"}</Output>\n",
      "    </Example>\n",
      "    <Example>\n",
      "      <Input>Banana</Input>\n",
      "      <Output>{\"name\":\"Banana\",\"color\":\"Yellow\"}</Output>\n",
      "    </Example>\n",
      "    <Example>\n",
      "      <Input>Strawberry</Input>\n",
      "      <Output>{\"name\":\"Strawberry\",\"color\":\"Red\"}</Output>\n",
      "    </Example>\n",
      "    <Example>\n",
      "      <Input>Blueberry</Input>\n",
      "      <Output>{\"name\":\"Blueberry\",\"color\":\"Blue\"}</Output>\n",
      "    </Example>\n",
      "    <Example>\n",
      "      <Input>Grape</Input>\n",
      "      <Output>{\"name\":\"Grape\",\"color\":\"Purple\"}</Output>\n",
      "    </Example>\n",
      "    <Example>\n",
      "      <Input>Orange</Input>\n",
      "      <Output>{\"name\":\"Orange\",\"color\":\"Orange\"}</Output>\n",
      "    </Example>\n",
      "    <Example>\n",
      "      <Input>Kiwi</Input>\n",
      "      <Output>{\"name\":\"Kiwi\",\"color\":\"Brown\"}</Output>\n",
      "    </Example>\n",
      "    <Example>\n",
      "      <Input>Watermelon</Input>\n",
      "      <Output>{\"name\":\"Watermelon\",\"color\":\"Green\"}</Output>\n",
      "    </Example>\n",
      "  </Examples>\n",
      "</Prompt>\n"
     ]
    }
   ],
   "source": [
    "# Print the improved prompt\n",
    "print(prompt)"
   ]
  },
  {
   "cell_type": "markdown",
   "metadata": {},
   "source": [
    "## Conclusion\n",
    "This notebook illustrated how to effectively use `FewShotPromptBuilder` to create, structure, and enhance prompts for OpenAI models."
   ]
  }
 ],
 "metadata": {
  "kernelspec": {
   "display_name": ".venv",
   "language": "python",
   "name": "python3"
  },
  "language_info": {
   "codemirror_mode": {
    "name": "ipython",
    "version": 3
   },
   "file_extension": ".py",
   "mimetype": "text/x-python",
   "name": "python",
   "nbconvert_exporter": "python",
   "pygments_lexer": "ipython3",
   "version": "3.10.17"
  }
 },
 "nbformat": 4,
 "nbformat_minor": 2
}
