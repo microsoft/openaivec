{
 "cells": [
  {
   "cell_type": "markdown",
   "metadata": {},
   "source": [
    "# Basics of prompt\n",
    "\n",
    "This notebook demonstrates how to use `FewShotPromptBuilder` to create structured prompts for OpenAI models."
   ]
  },
  {
   "cell_type": "code",
   "execution_count": null,
   "metadata": {},
   "outputs": [],
   "source": [
    "# Import FewShotPromptBuilder from openaivec\n",
    "from openaivec import FewShotPromptBuilder"
   ]
  },
  {
   "cell_type": "markdown",
   "metadata": {},
   "source": [
    "## Basic Usage\n",
    "Create a simple prompt with purpose, cautions, and examples."
   ]
  },
  {
   "cell_type": "code",
   "execution_count": 2,
   "metadata": {},
   "outputs": [
    {
     "name": "stdout",
     "output_type": "stream",
     "text": [
      "<Prompt>\n",
      "  <Purpose>some purpose</Purpose>\n",
      "  <Cautions>\n",
      "    <Caution>some caution</Caution>\n",
      "    <Caution>some other caution</Caution>\n",
      "  </Cautions>\n",
      "  <Examples>\n",
      "    <Example>\n",
      "      <Input>some input</Input>\n",
      "      <Output>some output</Output>\n",
      "    </Example>\n",
      "    <Example>\n",
      "      <Input>some other input</Input>\n",
      "      <Output>some other output</Output>\n",
      "    </Example>\n",
      "  </Examples>\n",
      "</Prompt>\n"
     ]
    }
   ],
   "source": [
    "# Build a basic prompt with purpose, cautions, and examples\n",
    "prompt_str: str = (\n",
    "    FewShotPromptBuilder()\n",
    "    .purpose(\"some purpose\")\n",
    "    .caution(\"some caution\")\n",
    "    .caution(\"some other caution\")\n",
    "    .example(\n",
    "        input_value=\"some input\",\n",
    "        output_value=\"some output\"\n",
    "    )\n",
    "    .example(\n",
    "        input_value=\"some other input\",\n",
    "        output_value=\"some other output\"\n",
    "    )\n",
    "    .build()\n",
    ")\n",
    "\n",
    "# Print the generated prompt\n",
    "print(prompt_str)"
   ]
  },
  {
   "cell_type": "markdown",
   "metadata": {},
   "source": [
    "## Structured Output Example\n",
    "Demonstrate how to use a structured output with Pydantic models."
   ]
  },
  {
   "cell_type": "code",
   "execution_count": null,
   "metadata": {},
   "outputs": [],
   "source": [
    "# Import BaseModel from pydantic for structured outputs\n",
    "from pydantic import BaseModel\n",
    "\n",
    "\n",
    "# Define a structured result model\n",
    "class Result(BaseModel):\n",
    "    field1: str\n",
    "    field2: str\n",
    "\n",
    "# Build a prompt using structured examples\n",
    "prompt_str: str = (\n",
    "    FewShotPromptBuilder()\n",
    "    .purpose(\"some purpose\")\n",
    "    .caution(\"some caution\")\n",
    "    .caution(\"some other caution\")\n",
    "    .example(\n",
    "        input_value=\"some input\",\n",
    "        output_value=Result(field1=\"some field\", field2=\"some other field\")\n",
    "    )\n",
    "    .example(\n",
    "        input_value=\"some other input\",\n",
    "        output_value=Result(field1=\"some field\", field2=\"some other field\")\n",
    "    )\n",
    "    .build()\n",
    ")\n",
    "\n",
    "# Print the structured prompt\n",
    "print(prompt_str)"
   ]
  },
  {
   "cell_type": "markdown",
   "metadata": {},
   "source": [
    "## Improving Prompts with LLM\n",
    "Use an OpenAI model to automatically improve and explain the prompt.\n",
    "The `improve()` method can be used with or without explicit configuration."
   ]
  },
  {
   "cell_type": "code",
   "execution_count": 4,
   "metadata": {},
   "outputs": [
    {
     "name": "stdout",
     "output_type": "stream",
     "text": [
      "=== Iteration 1 ===\n",
      "\n",
      "Instruction: The original purpose \"Return the color of given fruit\" is somewhat terse and could lead to ambiguity regarding the output format and expected behavior. Specifically, it does not specify that the output should be a JSON string containing the fruit's name and color, which is crucial for consistent responses. Refining the purpose to explicitly describe both the input and the expected output format will improve clarity and reduce ambiguity.\n",
      "--- before\n",
      "+++ after\n",
      "@@ -1,7 +1,7 @@\n",
      " <Prompt>\n",
      "-  <Purpose>Return the color of given fruit</Purpose>\n",
      "+  <Purpose>Given the name of a fruit in English, return a JSON string containing the fruit's name and its typical color.</Purpose>\n",
      "   <Cautions>\n",
      "-    <Caution>The fruit name should be in English</Caution>\n",
      "+    <Caution>The fruit name should be in English.</Caution>\n",
      "   </Cautions>\n",
      "   <Examples>\n",
      "     <Example>\n",
      "=== Iteration 2 ===\n",
      "\n",
      "Instruction: The 'cautions' field currently only specifies that the fruit name should be in English, which is important but insufficient. There are other potential edge cases and pitfalls that need highlighting, such as handling unknown fruits, case sensitivity, spelling variations, and ensuring the typical color (not rare variants) is used. Adding these cautions will help guide the model to generate more accurate and robust responses.\n",
      "--- before\n",
      "+++ after\n",
      "@@ -2,6 +2,10 @@\n",
      "   <Purpose>Given the name of a fruit in English, return a JSON string containing the fruit's name and its typical color.</Purpose>\n",
      "   <Cautions>\n",
      "     <Caution>The fruit name should be in English.</Caution>\n",
      "+    <Caution>The fruit name should be spelled correctly to avoid errors.</Caution>\n",
      "+    <Caution>If the fruit is unknown or not in the database, respond with a JSON indicating the fruit name and color as \"Unknown\".</Caution>\n",
      "+    <Caution>Use the typical or most common color associated with the fruit, ignoring rare or variant colors.</Caution>\n",
      "+    <Caution>The input is case-insensitive; handle fruit names regardless of letter case.</Caution>\n",
      "   </Cautions>\n",
      "   <Examples>\n",
      "     <Example>\n",
      "=== Iteration 3 ===\n",
      "\n",
      "Instruction: The examples currently cover a limited set of fruits, all with known colors, and do not demonstrate handling of edge cases such as case variations or unknown fruits. Expanding the examples to include such cases will better demonstrate expected behavior and improve the prompt's comprehensiveness. We add examples with varied casing and an unknown fruit to cover these scenarios.\n",
      "--- before\n",
      "+++ after\n",
      "@@ -28,5 +28,17 @@\n",
      "       <Input>Blueberry</Input>\n",
      "       <Output>{\"name\":\"Blueberry\",\"color\":\"Blue\"}</Output>\n",
      "     </Example>\n",
      "+    <Example>\n",
      "+      <Input>apple</Input>\n",
      "+      <Output>{\"name\":\"Apple\",\"color\":\"Red\"}</Output>\n",
      "+    </Example>\n",
      "+    <Example>\n",
      "+      <Input>Mango</Input>\n",
      "+      <Output>{\"name\":\"Mango\",\"color\":\"Orange\"}</Output>\n",
      "+    </Example>\n",
      "+    <Example>\n",
      "+      <Input>Dragonfruit</Input>\n",
      "+      <Output>{\"name\":\"Dragonfruit\",\"color\":\"Unknown\"}</Output>\n",
      "+    </Example>\n",
      "   </Examples>\n",
      " </Prompt>\n",
      "=== Iteration 4 ===\n",
      "\n",
      "Instruction: In this final iteration, we conducted a thorough review of the entire prompt to ensure it is clear, unambiguous, and free from redundancies or contradictions. We standardized phrasing across fields, ensured JSON outputs are consistently formatted, and confirmed that the purpose, cautions, and examples fully support the task requirements. No further issues were found; thus, the prompt is finalized.\n"
     ]
    }
   ],
   "source": [
    "# Define a structured model for fruits\n",
    "class Fruit(BaseModel):\n",
    "    name: str\n",
    "    color: str\n",
    "\n",
    "# Method 1: Use default configuration with environment variables\n",
    "# (Requires OPENAI_API_KEY or Azure OpenAI environment variables)\n",
    "prompt: str = (\n",
    "    FewShotPromptBuilder()\n",
    "    .purpose(\"Return the color of given fruit\")\n",
    "    .caution(\"The fruit name should be in English\")\n",
    "    .example(\"Apple\", Fruit(name=\"Apple\", color=\"Red\"))\n",
    "    .example(\"Peach\", Fruit(name=\"Peach\", color=\"Pink\"))\n",
    "    .example(\"Banana\", Fruit(name=\"Banana\", color=\"Yellow\"))\n",
    "    .example(\"Strawberry\", Fruit(name=\"Strawberry\", color=\"Red\"))\n",
    "    .example(\"Blueberry\", Fruit(name=\"Blueberry\", color=\"Blue\"))\n",
    "    .improve()  # Uses OPENAI_API_KEY environment variable and default model (gpt-4.1-mini)\n",
    "    .explain()\n",
    "    .build()\n",
    ")\n",
    "\n",
    "# Method 2: Explicitly provide client and model_name\n",
    "# from openai import OpenAI\n",
    "# client = OpenAI(api_key=\"your-api-key\")\n",
    "# prompt: str = (\n",
    "#     FewShotPromptBuilder()\n",
    "#     .purpose(\"Return the color of given fruit\")\n",
    "#     .caution(\"The fruit name should be in English\")\n",
    "#     .example(\"Apple\", Fruit(name=\"Apple\", color=\"Red\"))\n",
    "#     .example(\"Peach\", Fruit(name=\"Peach\", color=\"Pink\"))\n",
    "#     .example(\"Banana\", Fruit(name=\"Banana\", color=\"Yellow\"))\n",
    "#     .example(\"Strawberry\", Fruit(name=\"Strawberry\", color=\"Red\"))\n",
    "#     .example(\"Blueberry\", Fruit(name=\"Blueberry\", color=\"Blue\"))\n",
    "#     .improve(client=client, model_name=\"gpt-4o\")  # Explicit client and model\n",
    "#     .explain()\n",
    "#     .build()\n",
    "# )"
   ]
  },
  {
   "cell_type": "markdown",
   "metadata": {},
   "source": [
    "## Display Improved Prompt\n",
    "Output the improved and explained prompt."
   ]
  },
  {
   "cell_type": "code",
   "execution_count": 5,
   "metadata": {},
   "outputs": [
    {
     "name": "stdout",
     "output_type": "stream",
     "text": [
      "<Prompt>\n",
      "  <Purpose>Given the name of a fruit in English, return a JSON string containing the fruit's name and its typical color.</Purpose>\n",
      "  <Cautions>\n",
      "    <Caution>The fruit name should be in English.</Caution>\n",
      "    <Caution>The fruit name should be spelled correctly to avoid errors.</Caution>\n",
      "    <Caution>If the fruit is unknown or not in the database, respond with a JSON indicating the fruit name and color as \"Unknown\".</Caution>\n",
      "    <Caution>Use the typical or most common color associated with the fruit, ignoring rare or variant colors.</Caution>\n",
      "    <Caution>The input is case-insensitive; handle fruit names regardless of letter case.</Caution>\n",
      "  </Cautions>\n",
      "  <Examples>\n",
      "    <Example>\n",
      "      <Input>Apple</Input>\n",
      "      <Output>{\"name\":\"Apple\",\"color\":\"Red\"}</Output>\n",
      "    </Example>\n",
      "    <Example>\n",
      "      <Input>Peach</Input>\n",
      "      <Output>{\"name\":\"Peach\",\"color\":\"Pink\"}</Output>\n",
      "    </Example>\n",
      "    <Example>\n",
      "      <Input>Banana</Input>\n",
      "      <Output>{\"name\":\"Banana\",\"color\":\"Yellow\"}</Output>\n",
      "    </Example>\n",
      "    <Example>\n",
      "      <Input>Strawberry</Input>\n",
      "      <Output>{\"name\":\"Strawberry\",\"color\":\"Red\"}</Output>\n",
      "    </Example>\n",
      "    <Example>\n",
      "      <Input>Blueberry</Input>\n",
      "      <Output>{\"name\":\"Blueberry\",\"color\":\"Blue\"}</Output>\n",
      "    </Example>\n",
      "    <Example>\n",
      "      <Input>apple</Input>\n",
      "      <Output>{\"name\":\"Apple\",\"color\":\"Red\"}</Output>\n",
      "    </Example>\n",
      "    <Example>\n",
      "      <Input>Mango</Input>\n",
      "      <Output>{\"name\":\"Mango\",\"color\":\"Orange\"}</Output>\n",
      "    </Example>\n",
      "    <Example>\n",
      "      <Input>Dragonfruit</Input>\n",
      "      <Output>{\"name\":\"Dragonfruit\",\"color\":\"Unknown\"}</Output>\n",
      "    </Example>\n",
      "  </Examples>\n",
      "</Prompt>\n"
     ]
    }
   ],
   "source": [
    "# Print the improved prompt\n",
    "print(prompt)"
   ]
  },
  {
   "cell_type": "markdown",
   "metadata": {},
   "source": [
    "## Conclusion\n",
    "This notebook illustrated how to effectively use `FewShotPromptBuilder` to create, structure, and enhance prompts for OpenAI models."
   ]
  }
 ],
 "metadata": {
  "kernelspec": {
   "display_name": "openaivec (3.13.3)",
   "language": "python",
   "name": "python3"
  },
  "language_info": {
   "codemirror_mode": {
    "name": "ipython",
    "version": 3
   },
   "file_extension": ".py",
   "mimetype": "text/x-python",
   "name": "python",
   "nbconvert_exporter": "python",
   "pygments_lexer": "ipython3",
   "version": "3.13.3"
  }
 },
 "nbformat": 4,
 "nbformat_minor": 2
}
